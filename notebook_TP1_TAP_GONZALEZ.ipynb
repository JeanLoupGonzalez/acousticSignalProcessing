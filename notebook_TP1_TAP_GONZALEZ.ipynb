{
 "cells": [
  {
   "cell_type": "markdown",
   "id": "bdd5dfa2",
   "metadata": {},
   "source": [
    "# TP1 Prétraitement acoustique et Analyse en Composantes Principales\n",
    "\n",
    "NOM - PRÉNOM : Gonzalez Jean-Loup\n",
    "\n",
    "Déposer le notebook sur moodle à la fin de la séance. "
   ]
  },
  {
   "cell_type": "code",
   "execution_count": 1,
   "id": "5a9bb287",
   "metadata": {},
   "outputs": [],
   "source": [
    "import numpy as np\n",
    "import scipy.io.wavfile as wav\n",
    "from canaux24 import canaux\n",
    "from scipy import linalg\n",
    "import matplotlib.pyplot as plt\n",
    "import os"
   ]
  },
  {
   "cell_type": "markdown",
   "id": "cd9497ab",
   "metadata": {},
   "source": [
    "### Prétraitements élémentaires\n",
    "Définition de la fonction lecture qui permet de récupérer la matrice des observations."
   ]
  },
  {
   "cell_type": "markdown",
   "id": "5513d132",
   "metadata": {},
   "source": [
    " ### Traitements : \n",
    " ATTENTION \n",
    " Procéder par étape en écrivant le code dans une cellule et en traçant le résultat dans la cellule suivante \n",
    " Affichage des matices, des vecteurs, de leur taille ceci afin de vérifier la cohérence des résultats. \n",
    " "
   ]
  },
  {
   "cell_type": "code",
   "execution_count": 2,
   "id": "8ea4c804",
   "metadata": {},
   "outputs": [
    {
     "name": "stdout",
     "output_type": "stream",
     "text": [
      "frequence d'echantillonage : 16000\n"
     ]
    }
   ],
   "source": [
    "nomSignaux=[]\n",
    "for nomFichier in os.listdir('Signal'):\n",
    "    #Remplissage d'une liste avec le noms des fichiers\n",
    "    nomSignaux.append(nomFichier)\n",
    "nomSignaux.sort()\n",
    "#récupération de la fe d'un échantillon (le 6, par exemple)\n",
    "(f_ech,echantillon)=wav.read('Signal/'+nomSignaux[5])\n",
    "print(\"frequence d'echantillonage : \" +str(f_ech))\n",
    "# Définition de la fonction lecture \n",
    "def lecture(voyelle,nbIndividus):\n",
    "    obs=[]\n",
    "    cmpt=0\n",
    "    for nomSignal in nomSignaux:\n",
    "        if(nomSignal[0:2]==voyelle and cmpt <nbIndividus):\n",
    "            signal=wav.read('Signal/'+nomSignal)\n",
    "            mel= canaux(signal[1],f_ech)\n",
    "            obs.append(mel)   \n",
    "            cmpt=cmpt+1\n",
    "    return obs\n",
    "\n"
   ]
  },
  {
   "cell_type": "code",
   "execution_count": 3,
   "id": "cd126f42",
   "metadata": {},
   "outputs": [],
   "source": [
    "# Lecture des 20 fichiers pour chacune des classes\n",
    "# les observations recuperees sont reduites à 24D grâce à MEL qui\n",
    "# calcule les MFCC (grace à des FFT)\n",
    "obsaa = lecture('aa', 20)\n",
    "obsuu = lecture('uu', 20)\n",
    "obsii = lecture('ii', 20)"
   ]
  },
  {
   "cell_type": "code",
   "execution_count": 4,
   "id": "5150149d",
   "metadata": {
    "scrolled": true
   },
   "outputs": [
    {
     "name": "stdout",
     "output_type": "stream",
     "text": [
      "(24, 60)\n"
     ]
    }
   ],
   "source": [
    "# Créer une matrice contenant l'ensemble des observations à traiter\n",
    "# la matrice R est de dim 24\n",
    "R = np.vstack((obsaa, obsuu, obsii))\n",
    "Rt=R.transpose()\n",
    "print(np.shape(Rt))"
   ]
  },
  {
   "cell_type": "code",
   "execution_count": 15,
   "id": "4fd9839d",
   "metadata": {},
   "outputs": [],
   "source": [
    "# En utilisant les fonctions cov et eig, constituer une matrice de passage qui permette de passer \n",
    "# de l'espace de dimension 24 généré par la fonction canaux dans un espace à deux dimensions \n",
    "# correspondant aux deux composantes principales.\n",
    "# on calcule les vacteurs propres de R (24D)\n",
    "# on ne garde que les 2 plus fortes val propres, c'est a dire les \n",
    "# 2D qui sont les plus caractéristiques (moins de perte d'information lors\n",
    "# de la réduction de dimension)\n",
    "# permet de rendre la matrice R carrée (pour utiliser linalg)\n",
    "matriceCov=np.cov(Rt)\n",
    "# calcul les val propres et les vect propres de la matrice de cov de R\n",
    "(valPropres,vectPropres)=linalg.eig(matriceCov)"
   ]
  },
  {
   "cell_type": "code",
   "execution_count": 6,
   "id": "557933b2",
   "metadata": {},
   "outputs": [
    {
     "name": "stdout",
     "output_type": "stream",
     "text": [
      "Les deux valeurs propres maximales sont : (5295554841433.579+0j)(465469342942.3679+0j)\n",
      "index des 2 vect propres max : (array([0], dtype=int64),)(array([1], dtype=int64),)\n"
     ]
    }
   ],
   "source": [
    "# Pour cela, \n",
    "# 1 - rechercher les deux valeurs propres maximales \n",
    "vp1=np.max(valPropres)\n",
    "indexVp1=np.where(valPropres==vp1)\n",
    "inter=np.delete(valPropres,indexVp1)\n",
    "vp2=np.max(inter)\n",
    "indexVp2=np.where(valPropres==vp2)\n",
    "print(\"Les deux valeurs propres maximales sont : \"+str(vp1)+str(vp2))\n",
    "print(\"index des 2 vect propres max : \"+str(indexVp1)+str(indexVp2))"
   ]
  },
  {
   "cell_type": "code",
   "execution_count": 7,
   "id": "23e5ac5e",
   "metadata": {},
   "outputs": [
    {
     "name": "stdout",
     "output_type": "stream",
     "text": [
      "[[-4.58258772e-03 -5.87687541e-04  1.03534506e-02  1.64002609e-02\n",
      "  -1.33960772e-02  1.29936691e-02  1.37387425e-03 -5.05408368e-03\n",
      "  -1.06158527e-02  7.72427670e-03 -2.70668054e-02  8.57658002e-02\n",
      "  -7.82236117e-03  6.97944891e-02  1.01853962e-01 -2.09432233e-01\n",
      "  -2.74490800e-02 -4.52085487e-02 -1.43116279e-01 -5.68069344e-01\n",
      "  -6.06515752e-01  1.28609136e-01 -4.45212501e-01  5.65625568e-02]]\n",
      "[[-0.15578644 -0.21506731  0.19539834  0.49489156 -0.05216259  0.28534929\n",
      "   0.46432554  0.12817984 -0.09912921  0.20367236  0.08420736  0.43766271\n",
      "   0.01351832 -0.02663672  0.08308415  0.18210604 -0.1836531  -0.03191638\n",
      "   0.01613803 -0.02084179  0.05443926  0.01740962  0.01752801  0.01681489]]\n"
     ]
    }
   ],
   "source": [
    "# 2-  prendre les vecteurs propres correspondants\n",
    "vectPropre1=vectPropres[indexVp1]\n",
    "vectPropre2=vectPropres[indexVp2]\n",
    "print(vectPropre1)\n",
    "print(vectPropre2)"
   ]
  },
  {
   "cell_type": "code",
   "execution_count": 8,
   "id": "e7fb1ef6",
   "metadata": {},
   "outputs": [
    {
     "name": "stdout",
     "output_type": "stream",
     "text": [
      "(24, 2)\n",
      "<class 'numpy.ndarray'>\n",
      "(60, 2)\n"
     ]
    }
   ],
   "source": [
    "# 3-  projeter R dans ce nouvel espace \n",
    "# on garde les 2 premieres colonnes de la matrice vectPropres, \n",
    "# qui correspondent aux 2 vect propres aux val prores max\n",
    "matrix_vectPropres_max=vectPropres[:,:2]\n",
    "print(np.shape(matrix_vectPropres_max))\n",
    "print(type(matrix_vectPropres_max))\n",
    "# on multiplie matrix_vectPropres_max et R pour projeter R dans un espace 2D\n",
    "R_projetee=np.dot(R,matrix_vectPropres_max)\n",
    "print(np.shape(R_projetee))\n",
    "#print(R_projetee)"
   ]
  },
  {
   "cell_type": "code",
   "execution_count": 9,
   "id": "9cf8579a",
   "metadata": {},
   "outputs": [
    {
     "data": {
      "text/plain": [
       "<matplotlib.legend.Legend at 0x24f66f24c10>"
      ]
     },
     "execution_count": 9,
     "metadata": {},
     "output_type": "execute_result"
    },
    {
     "data": {
      "image/png": "[encoded data removed]",
      "text/plain": [
       "<Figure size 432x288 with 1 Axes>"
      ]
     },
     "metadata": {
      "needs_background": "light"
     },
     "output_type": "display_data"
    }
   ],
   "source": [
    "# 4- et effectuer un tracé\n",
    "# Afficher les nuages de points de chacune des classes de sons sur une même figure en les différenciant \n",
    "# par des couleurs ou une forme de tracé de points différentes ; Mettre une légende.\n",
    "R_projetee_A=np.dot(R[:19],matrix_vectPropres_max)\n",
    "R_projetee_U=np.dot(R[20:39],matrix_vectPropres_max)\n",
    "R_projetee_I=np.dot(R[40:59],matrix_vectPropres_max)\n",
    "plt.plot(R_projetee_A[:,0],R_projetee_A[:,1],'r*',label=\"A\")\n",
    "plt.plot(R_projetee_U[:,0],R_projetee_U[:,1],'b+',label=\"U\")\n",
    "plt.plot(R_projetee_I[:,0],R_projetee_I[:,1],'co',label=\"I\")\n",
    "plt.title(\"Projection 2D des classes\")\n",
    "plt.legend()\n"
   ]
  },
  {
   "cell_type": "code",
   "execution_count": 10,
   "id": "42cefd04",
   "metadata": {},
   "outputs": [
    {
     "name": "stdout",
     "output_type": "stream",
     "text": [
      "Les deux valeurs propres minimales sont : (52481008.412379004+0j)(170313347.60951015+0j)\n",
      "\n",
      "index des 2 vect propres min : (array([18], dtype=int64),)(array([23], dtype=int64),)\n"
     ]
    }
   ],
   "source": [
    "# 5- rechercher les deux valeurs propres minimales\n",
    "\n",
    "#recherche des vect propres ayant les val propres associees les plus faibles : \n",
    "#valeurs propres\n",
    "vpMin1=np.min(valPropres)\n",
    "index_vp_min1=np.where(valPropres==vpMin1)\n",
    "inter_min=np.delete(valPropres,index_vp_min1)\n",
    "vpMin2=np.min(inter_min)\n",
    "index_vp_min2=np.where(valPropres==vpMin2)\n",
    "print(\"Les deux valeurs propres minimales sont : \"+str(vpMin1)+str(vpMin2)+\"\\n\")\n",
    "#vecteurs propres associes\n",
    "vectPropreMin1=vectPropres[index_vp_min1]\n",
    "vectPropreMin2=vectPropres[index_vp_min2]\n",
    "print(\"index des 2 vect propres min : \"+str(index_vp_min1)+str(index_vp_min2))\n"
   ]
  },
  {
   "cell_type": "code",
   "execution_count": 11,
   "id": "dcd0bf1e",
   "metadata": {},
   "outputs": [
    {
     "name": "stdout",
     "output_type": "stream",
     "text": [
      "(24, 2)\n",
      "(60, 2)\n"
     ]
    },
    {
     "data": {
      "text/plain": [
       "<matplotlib.legend.Legend at 0x24f67029f10>"
      ]
     },
     "execution_count": 11,
     "metadata": {},
     "output_type": "execute_result"
    },
    {
     "data": {
      "image/png": "[encoded data removed]",
      "text/plain": [
       "<Figure size 432x288 with 1 Axes>"
      ]
     },
     "metadata": {
      "needs_background": "light"
     },
     "output_type": "display_data"
    }
   ],
   "source": [
    "# Utilisez les deux vecteurs propres les moins représentatifs pour la matrice de passage, \n",
    "\n",
    "# projeter R dans ce nouvel espace \n",
    "matrix_vectPropres_min=[[row[18] for row in vectPropres],[row[23] for row in vectPropres]]\n",
    "matrix_vectPropres_min=np.array(matrix_vectPropres_min).transpose()\n",
    "print(np.shape(matrix_vectPropres_min))\n",
    "# on multiplie matrix_vectPropres_min et R pour projeter R dans un espace 2D\n",
    "R_projetee_min=np.dot(R,matrix_vectPropres_max)\n",
    "print(np.shape(R_projetee_min))\n",
    "#print(R_projetee)\n",
    "R_projetee_min_A=np.dot(R[:19],matrix_vectPropres_min)\n",
    "R_projetee_min_U=np.dot(R[20:39],matrix_vectPropres_min)\n",
    "R_projetee_min_I=np.dot(R[40:59],matrix_vectPropres_min)\n",
    "plt.plot(R_projetee_min_A[:,0],R_projetee_min_A[:,1],'r*',label=\"A\")\n",
    "plt.plot(R_projetee_min_U[:,0],R_projetee_min_U[:,1],'b+',label=\"U\")\n",
    "plt.plot(R_projetee_min_I[:,0],R_projetee_min_I[:,1],'co',label=\"I\")\n",
    "plt.title(\"Projection 2D des classes (vect propres min)\")\n",
    "plt.legend()\n",
    "\n",
    "# que devient la représentation des nuages ? Est-ce qu'une discrimination linéaire est possible ?\n",
    "# Le nuage de point présente les classes complètement mélangées. On voit bien qu'une \n",
    "# discrimination linéaire est impossible."
   ]
  },
  {
   "cell_type": "markdown",
   "id": "e036a1ff",
   "metadata": {},
   "source": [
    "### Généralisation\n",
    "Réaliser le même traitement avec tous les fichiers (100) des 3 classes. Est-ce toujours séparable ?\n",
    "Effectuer le même traitement sur les 10 voyelles et commenter les résultats... Ajouter les cellules nécessaires. "
   ]
  },
  {
   "cell_type": "code",
   "execution_count": 14,
   "id": "664de28c",
   "metadata": {},
   "outputs": [
    {
     "name": "stdout",
     "output_type": "stream",
     "text": [
      "Les deux valeurs propres maximales sont : (2583468006975.9995+0j)(396110240914.62573+0j)\n",
      "index des 2 vect propres max : (array([0], dtype=int64),)(array([1], dtype=int64),)\n"
     ]
    },
    {
     "data": {
      "text/plain": [
       "<matplotlib.legend.Legend at 0x24f67e627c0>"
      ]
     },
     "execution_count": 14,
     "metadata": {},
     "output_type": "execute_result"
    },
    {
     "data": {
      "image/png": "[encoded data removed]",
      "text/plain": [
       "<Figure size 432x288 with 1 Axes>"
      ]
     },
     "metadata": {
      "needs_background": "light"
     },
     "output_type": "display_data"
    }
   ],
   "source": [
    "#lecture de tous les fichiers\n",
    "obsaacomplet = lecture('aa', 100)\n",
    "obsuucomplet = lecture('uu', 100)\n",
    "obsiicomplet = lecture('ii', 100)\n",
    "\n",
    "# Créer une matrice contenant l'ensemble des observations à traiter\n",
    "# la matrice R est de dim 24\n",
    "Rcomplet = np.vstack((obsaacomplet, obsuucomplet, obsiicomplet))\n",
    "RcompletT=Rcomplet.transpose()\n",
    "\n",
    "matriceCovComplet=np.cov(RcompletT)\n",
    "# calcul les val propres et les vect propres de la matrice de cov de R\n",
    "(valPropresComplet,vectPropresComplet)=linalg.eig(matriceCovComplet)\n",
    "\n",
    "#rechercher les deux valeurs propres maximales \n",
    "vp1Complet=np.max(valPropresComplet)\n",
    "indexVp1Complet=np.where(valPropresComplet==vp1Complet)\n",
    "interComplet=np.delete(valPropresComplet,indexVp1Complet)\n",
    "vp2Complet=np.max(interComplet)\n",
    "indexVp2Complet=np.where(valPropresComplet==vp2Complet)\n",
    "print(\"Les deux valeurs propres maximales sont : \"+str(vp1Complet)+str(vp2Complet))\n",
    "print(\"index des 2 vect propres max : \"+str(indexVp1Complet)+str(indexVp2Complet))\n",
    "\n",
    "#vecteurs propres associes\n",
    "vectPropre1Complet=vectPropresComplet[indexVp1Complet]\n",
    "vectPropre2Complet=vectPropresComplet[indexVp2Complet]\n",
    "\n",
    "# projection de R dans ce nouvel espace \n",
    "matrix_vectPropres_Complet=vectPropresComplet[:,:2]\n",
    "# on multiplie matrix_vectPropres_max et R pour projeter R dans un espace 2D\n",
    "R_projeteeComplet=np.dot(Rcomplet,matrix_vectPropres_Complet)\n",
    "\n",
    "#affichage\n",
    "R_projeteeComplet_A=np.dot(Rcomplet[:99],matrix_vectPropres_Complet)\n",
    "R_projeteeComplet_U=np.dot(Rcomplet[100:199],matrix_vectPropres_Complet)\n",
    "R_projeteeComplet_I=np.dot(Rcomplet[200:299],matrix_vectPropres_Complet)\n",
    "plt.plot(R_projeteeComplet_A[:,0],R_projeteeComplet_A[:,1],'r*',label=\"A\")\n",
    "plt.plot(R_projeteeComplet_U[:,0],R_projeteeComplet_U[:,1],'b+',label=\"U\")\n",
    "plt.plot(R_projeteeComplet_I[:,0],R_projeteeComplet_I[:,1],'co',label=\"I\")\n",
    "plt.title(\"Projection 2D des classes, 100 individus par classe\")\n",
    "plt.legend()"
   ]
  },
  {
   "cell_type": "code",
   "execution_count": null,
   "id": "2f4b9940",
   "metadata": {},
   "outputs": [],
   "source": []
  }
 ],
 "metadata": {
  "kernelspec": {
   "display_name": "Python 3 (ipykernel)",
   "language": "python",
   "name": "python3"
  },
  "language_info": {
   "codemirror_mode": {
    "name": "ipython",
    "version": 3
   },
   "file_extension": ".py",
   "mimetype": "text/x-python",
   "name": "python",
   "nbconvert_exporter": "python",
   "pygments_lexer": "ipython3",
   "version": "3.9.12"
  }
 },
 "nbformat": 4,
 "nbformat_minor": 5
}
