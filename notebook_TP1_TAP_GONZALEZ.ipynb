{
 "cells": [
  {
   "cell_type": "markdown",
   "id": "bdd5dfa2",
   "metadata": {},
   "source": [
    "# TP1 Prétraitement acoustique et Analyse en Composantes Principales\n",
    "\n",
    "NOM - PRÉNOM : Gonzalez Jean-Loup\n",
    "\n",
    "Déposer le notebook sur moodle à la fin de la séance. "
   ]
  },
  {
   "cell_type": "code",
   "execution_count": 55,
   "id": "5a9bb287",
   "metadata": {},
   "outputs": [],
   "source": [
    "import numpy as np\n",
    "import scipy.io.wavfile as wav\n",
    "from canaux24 import canaux\n",
    "from scipy import linalg\n",
    "import matplotlib.pyplot as plt\n",
    "import os"
   ]
  },
  {
   "cell_type": "markdown",
   "id": "cd9497ab",
   "metadata": {},
   "source": [
    "### Prétraitements élémentaires\n",
    "Définition de la fonction lecture qui permet de récupérer la matrice des observations."
   ]
  },
  {
   "cell_type": "markdown",
   "id": "5513d132",
   "metadata": {},
   "source": [
    " ### Traitements : \n",
    " ATTENTION \n",
    " Procéder par étape en écrivant le code dans une cellule et en traçant le résultat dans la cellule suivante \n",
    " Affichage des matices, des vecteurs, de leur taille ceci afin de vérifier la cohérence des résultats. \n",
    " "
   ]
  },
  {
   "cell_type": "code",
   "execution_count": null,
   "id": "f8b44259",
   "metadata": {},
   "outputs": [],
   "source": []
  },
  {
   "cell_type": "code",
   "execution_count": 78,
   "id": "8ea4c804",
   "metadata": {},
   "outputs": [
    {
     "name": "stdout",
     "output_type": "stream",
     "text": [
      "frequence d'echantillonage : 16000\n"
     ]
    }
   ],
   "source": [
    "nomSignaux=[]\n",
    "for nomFichier in os.listdir('Signal'):\n",
    "    #Remplissage d'une liste avec le noms des fichiers\n",
    "    nomSignaux.append(nomFichier)\n",
    "nomSignaux.sort()\n",
    "#récupération de la fe d'un échantillon (le 6, par exemple)\n",
    "(f_ech,echantillon)=wav.read('Signal/'+nomSignaux[5])\n",
    "print(\"frequence d'echantillonage : \" +str(f_ech))\n",
    "# Définition de la fonction lecture \n",
    "def lecture(voyelle,nbEchantillons):\n",
    "    obs=[]\n",
    "    cmpt=0\n",
    "    for nomSignal in nomSignaux:\n",
    "        if(nomSignal[0:2]==voyelle and cmpt <20):\n",
    "            signal=wav.read('Signal/'+nomSignal)\n",
    "            mel= canaux(signal[1],f_ech)\n",
    "            obs.append(mel)   \n",
    "            cmpt=cmpt+1\n",
    "    return obs\n",
    "\n"
   ]
  },
  {
   "cell_type": "code",
   "execution_count": 79,
   "id": "cd126f42",
   "metadata": {},
   "outputs": [],
   "source": [
    "# Lecture des 20 fichiers pour chacune des classes\n",
    "# les observations recuperees sont reduites à 24D grâce à MEL qui\n",
    "# calcule les MFCC (grace à des FFT)\n",
    "obsaa = lecture('aa', 20)\n",
    "obsuu = lecture('uu', 20)\n",
    "obsii = lecture('ii', 20)"
   ]
  },
  {
   "cell_type": "code",
   "execution_count": 144,
   "id": "5150149d",
   "metadata": {
    "scrolled": true
   },
   "outputs": [
    {
     "name": "stdout",
     "output_type": "stream",
     "text": [
      "(24, 60)\n"
     ]
    }
   ],
   "source": [
    "# Créer une matrice contenant l'ensemble des observations à traiter\n",
    "# la matrice R est de dim 24\n",
    "R = np.vstack((obsaa, obsuu, obsii))\n",
    "Rt=R.transpose()\n",
    "print(np.shape(Rt))"
   ]
  },
  {
   "cell_type": "code",
   "execution_count": 145,
   "id": "4fd9839d",
   "metadata": {},
   "outputs": [
    {
     "name": "stdout",
     "output_type": "stream",
     "text": [
      "[[-4.58258772e-03  5.87687541e-04 -1.03534506e-02  1.64002609e-02\n",
      "  -1.33960772e-02  1.29936691e-02  1.37387425e-03 -5.05408368e-03\n",
      "  -1.06158527e-02 -7.72427670e-03  2.70668054e-02 -8.57658002e-02\n",
      "   7.82236117e-03 -6.97944891e-02 -1.01853962e-01  2.09432233e-01\n",
      "  -2.74490800e-02 -4.52085487e-02 -1.43116279e-01 -5.68069344e-01\n",
      "  -6.06515752e-01  1.28609136e-01 -4.45212501e-01  5.65625568e-02]\n",
      " [-1.55786437e-01  2.15067311e-01 -1.95398337e-01  4.94891564e-01\n",
      "  -5.21625919e-02  2.85349294e-01  4.64325543e-01  1.28179836e-01\n",
      "  -9.91292135e-02 -2.03672359e-01 -8.42073578e-02 -4.37662705e-01\n",
      "  -1.35183207e-02  2.66367174e-02 -8.30841488e-02 -1.82106037e-01\n",
      "  -1.83653102e-01 -3.19163806e-02  1.61380333e-02 -2.08417912e-02\n",
      "   5.44392614e-02  1.74096172e-02  1.75280145e-02  1.68148947e-02]\n",
      " [-3.02068036e-01 -2.23587692e-02 -2.38907107e-01  5.55681084e-01\n",
      "   2.42683933e-01  2.18058324e-01 -5.52970554e-01 -4.65583345e-02\n",
      "   1.07958923e-01 -1.15883238e-03  5.17600201e-02  1.68803637e-01\n",
      "   1.05786741e-01  7.62679451e-02  4.89105189e-02  5.27965122e-02\n",
      "   2.39432199e-01  3.55296528e-02 -5.22480242e-03  2.60531317e-02\n",
      "  -3.24998281e-02 -3.88146072e-02 -2.15400651e-02 -2.58323071e-02]\n",
      " [ 4.70354585e-03  1.64896160e-02  1.13541317e-02  2.27388000e-03\n",
      "   7.95183022e-02  1.79975857e-02 -6.02583345e-02  2.59997331e-02\n",
      "   3.94445099e-02 -1.35358982e-01 -8.13881652e-03  3.31101549e-01\n",
      "  -1.66539134e-01  3.31773467e-01  4.75800971e-01 -4.55912740e-01\n",
      "  -4.78502063e-01  3.27727829e-02 -1.18396755e-02 -1.54798544e-01\n",
      "  -4.43558943e-02  1.31195726e-01 -1.16174664e-01  1.32697470e-02]\n",
      " [-9.91457169e-02  3.00439043e-01 -4.10075737e-02  1.12081599e-01\n",
      "   1.88901496e-01 -4.40709135e-02  4.95958214e-01  5.12205740e-02\n",
      "   8.34539008e-02  4.92068377e-01  1.82820654e-01  3.03125074e-01\n",
      "  -3.62941760e-02  8.42699798e-02  2.32704639e-01  2.32659645e-01\n",
      "   1.31347690e-01  2.00987576e-01 -1.22519992e-02  1.59693973e-01\n",
      "  -1.03958185e-01  1.77225792e-03 -1.07677432e-01 -5.12680528e-02]\n",
      " [ 3.92334825e-02  2.23860454e-01 -9.65563883e-02  1.21534961e-01\n",
      "  -3.55127284e-02  6.24462637e-02 -1.12674268e-01 -4.47271995e-02\n",
      "   4.62063160e-02  1.29792077e-01 -9.58678976e-02  3.01359334e-01\n",
      "  -7.47700718e-02 -4.37412467e-01 -1.68699239e-01  3.30702193e-01\n",
      "  -6.06106076e-01 -1.56247170e-01  2.74636668e-02 -8.36806171e-02\n",
      "   1.26991715e-01  1.19999079e-02  1.86526471e-01  8.15247331e-03]\n",
      " [ 3.00902033e-01  4.26240653e-01 -7.64287923e-02 -1.00858315e-01\n",
      "  -2.92926586e-01  3.96230937e-01 -8.59410621e-03 -1.88926665e-01\n",
      "   3.52610900e-01 -1.81685173e-01  5.55954644e-02  1.30291013e-01\n",
      "  -2.07447642e-01 -1.48740049e-01  1.30029995e-01 -1.18089586e-01\n",
      "   3.55684032e-01 -1.69454779e-01 -1.33158682e-02 -3.72251760e-02\n",
      "   4.73406572e-03 -2.82246236e-02 -3.88868287e-02  2.54773495e-02]\n",
      " [ 4.53414510e-01  1.24615642e-01  1.66486511e-01  1.44119971e-01\n",
      "   5.83970654e-01 -1.02638455e-01  1.74371169e-01 -5.15402451e-02\n",
      "   6.51334808e-02 -2.76382808e-01 -1.32353386e-01  1.76084630e-01\n",
      "   3.12480700e-01  1.23650866e-01 -1.68475413e-01  1.54950933e-02\n",
      "   9.26551954e-02 -1.34683445e-01  4.22893634e-03 -1.76097939e-01\n",
      "   6.28827170e-02 -2.45190207e-02  1.11530427e-01  1.79318916e-02]\n",
      " [ 1.64124962e-01  7.84595468e-02 -7.17955827e-01 -2.93922985e-01\n",
      "   2.15710087e-01  2.42581935e-02 -4.48451755e-02  1.76930771e-01\n",
      "  -4.72512237e-01 -4.45044404e-02  1.34279805e-01  2.38775443e-02\n",
      "  -7.84128018e-02 -7.02026990e-03  5.85490271e-02  3.51151408e-02\n",
      "   9.48031388e-02 -6.60147307e-02  4.17977559e-02 -8.04330653e-02\n",
      "   7.66032575e-02  4.24360276e-02  1.54302753e-02  2.10537732e-02]\n",
      " [ 3.23965708e-01  6.43648484e-02  3.29860243e-01  4.21089609e-01\n",
      "  -2.18122314e-01 -1.95826331e-01 -1.24548396e-01  3.49752087e-01\n",
      "  -4.46537225e-01 -7.51256455e-02  1.54643861e-01  1.03641324e-01\n",
      "  -2.45762674e-01 -1.51591956e-01  1.53850425e-01  5.40790769e-02\n",
      "   1.58964179e-01  9.15971097e-03  6.66218417e-03  8.27246014e-03\n",
      "   3.99202013e-02  3.54610618e-02 -5.48565761e-02  4.33907359e-03]\n",
      " [ 1.90510290e-01  5.23277449e-02 -1.16044304e-01  4.45735589e-02\n",
      "  -7.25895187e-02  7.93771907e-03 -3.45388662e-02 -2.26671819e-01\n",
      "  -1.25734252e-01 -2.05324407e-01 -4.07465495e-01  8.91354995e-02\n",
      "  -3.01765068e-01  2.57997416e-01 -2.01524488e-01  1.90101770e-01\n",
      "  -5.11541022e-02  4.09814806e-01 -1.29168175e-03  3.15844756e-01\n",
      "  -3.25294592e-01  3.67936926e-02  4.86013555e-02 -2.03558886e-01]\n",
      " [ 3.43550219e-01  3.02008560e-02  5.23553274e-03 -4.12270008e-02\n",
      "   1.65452278e-01  1.37997228e-01 -1.79134864e-01  1.03411594e-01\n",
      "   2.20032309e-01 -4.89759763e-02  2.73514573e-01 -3.91984033e-01\n",
      "   2.37544715e-01 -2.21856114e-01  2.62424808e-01  1.08483974e-01\n",
      "  -2.21060942e-01  4.20005187e-01  7.96415822e-02  1.85584424e-01\n",
      "  -5.51270963e-02  1.88432751e-01 -6.77632110e-02 -1.24020064e-01]\n",
      " [ 1.34648046e-01  7.05487859e-02 -1.49185669e-01  1.03450112e-01\n",
      "  -5.00619821e-01 -5.89526053e-02  2.64026457e-02 -2.01967727e-01\n",
      "  -1.82822871e-01  1.30172645e-02  2.36648679e-01  1.86654822e-01\n",
      "   6.52789222e-01  2.01233524e-01 -2.49012275e-02 -5.23023257e-02\n",
      "  -8.75605973e-02  2.18728585e-02 -6.85557095e-02  1.48585323e-02\n",
      "  -1.34409916e-01 -2.83544014e-02  1.40379905e-01 -4.78306825e-02]\n",
      " [ 5.78101360e-02  2.77588617e-03 -9.50367502e-03 -1.74439940e-02\n",
      "   1.55560197e-01 -2.34016462e-02 -3.14989566e-02  9.79664593e-02\n",
      "  -8.68157595e-03 -3.22799350e-02  1.00221336e-01 -7.49119137e-02\n",
      "  -3.20205208e-02 -1.15169213e-01  9.02493938e-02 -1.12518149e-01\n",
      "  -1.42543308e-01 -3.10561993e-01 -4.05773650e-01  3.72904959e-01\n",
      "  -4.13867660e-01 -5.60267228e-01  5.09741328e-02 -2.80988316e-02]\n",
      " [ 6.35882834e-02 -3.17519679e-03 -5.13773540e-02  3.55150179e-03\n",
      "  -7.22649801e-02  7.50550971e-03 -1.51878236e-03 -7.54219885e-02\n",
      "  -2.04158984e-03 -1.45232616e-01 -3.72440303e-02  3.08806817e-02\n",
      "   5.57061222e-02  1.09638685e-01 -4.66817755e-03  2.19632514e-01\n",
      "  -1.09655341e-01  2.35322499e-01 -1.91823413e-01  3.92643216e-02\n",
      "   4.06128129e-01 -4.06261044e-01 -5.37188162e-01  4.13769624e-01]\n",
      " [ 4.63047654e-02 -1.61629145e-01 -3.61904606e-02  5.39594425e-02\n",
      "  -8.89816901e-02 -2.92378228e-02  3.84327453e-02 -1.05990902e-02\n",
      "   1.75803024e-01 -1.72732301e-01  1.94286368e-01 -1.64726117e-01\n",
      "  -1.52563849e-01  4.48751977e-01  2.44250526e-01  5.80614389e-01\n",
      "  -7.61977898e-02 -4.01356586e-01  3.14450135e-03  3.53451294e-02\n",
      "   4.97660931e-02  1.18617898e-01  1.58586835e-01  1.57793215e-02]\n",
      " [ 2.66929527e-01 -1.19661589e-01 -2.76234627e-01  8.56269693e-02\n",
      "  -2.06001087e-01 -1.42495471e-01 -4.54597686e-02  6.12384064e-01\n",
      "   4.46146914e-01  2.31108682e-01 -2.49656813e-01  4.06312420e-02\n",
      "   3.06939160e-02  1.63614928e-01 -1.75010616e-01 -9.24614784e-02\n",
      "   1.48913492e-02  2.12711949e-02 -1.41379810e-02 -4.99090729e-02\n",
      "  -1.77371101e-02 -5.37513788e-02  1.30057343e-02  3.00740824e-02]\n",
      " [ 3.82066827e-01 -6.22789226e-02 -7.06073016e-02  2.06690038e-01\n",
      "   4.49241486e-02 -5.68944508e-02 -1.13042467e-01 -4.57467969e-01\n",
      "  -8.83685753e-02  5.81931901e-01 -1.21403078e-01 -3.25745736e-01\n",
      "  -1.40908322e-01  1.06320916e-01  8.30152303e-02 -1.56704230e-01\n",
      "  -3.73549965e-02 -1.40172362e-01  2.80727928e-02 -9.57206692e-02\n",
      "   7.14670001e-02 -6.02261642e-02 -3.41510450e-02  6.57602461e-02]\n",
      " [ 8.73367501e-02 -4.74789611e-01 -2.86601080e-01  2.30491037e-01\n",
      "  -1.33789974e-02 -2.97587687e-01  2.66866134e-01 -2.64641248e-01\n",
      "   2.30917963e-01 -2.08404420e-01  3.30331915e-01  1.59194868e-01\n",
      "  -2.11792114e-01 -3.00131226e-01 -8.15748153e-02 -1.32317340e-01\n",
      "   2.45640273e-02  9.65030281e-02  1.56380063e-02  2.63872956e-03\n",
      "  -1.73440905e-03  1.66702202e-02 -1.90952648e-02 -2.37261183e-02]\n",
      " [ 1.89335155e-01 -4.69365772e-01  1.57142721e-01 -2.87426207e-02\n",
      "   3.58649280e-02  7.14498516e-01  1.28016712e-01  1.04420422e-01\n",
      "  -1.45262173e-01  1.63590810e-01  1.70645017e-01  2.07683469e-01\n",
      "  -4.89672247e-02  9.43562942e-02 -2.00033086e-01  1.44080277e-02\n",
      "  -5.10551372e-02  3.46712928e-02 -1.21130468e-03 -9.55744743e-03\n",
      "  -1.14424106e-02 -4.97920210e-02  3.30577215e-02  4.73397471e-04]\n",
      " [ 1.35727670e-02 -3.20402423e-01 -8.10108748e-02  4.14031962e-02\n",
      "  -7.45545776e-02  1.05361409e-01  1.70453869e-01 -1.48976530e-02\n",
      "  -7.42392568e-02 -4.83037555e-02 -5.54728573e-01  6.66874578e-02\n",
      "   2.33470538e-01 -3.06420290e-01  5.67236972e-01  1.53608969e-01\n",
      "   1.34000665e-01 -2.44971238e-02  1.06593802e-04 -4.67694700e-02\n",
      "  -4.62294682e-02 -4.36518876e-02  6.52266311e-02  1.15434741e-02]\n",
      " [ 3.64402035e-02 -5.62314385e-02 -3.00696732e-02  1.21095668e-02\n",
      "  -1.02008402e-02  6.87605988e-03  1.87398740e-02  4.90301933e-04\n",
      "  -2.55662279e-02  8.70686749e-03 -1.01108376e-01  7.29019459e-02\n",
      "   1.28025888e-01 -3.24675853e-02 -9.12220931e-02 -3.16366980e-02\n",
      "  -3.76928037e-02 -3.79435163e-01  2.07534547e-02  3.02673008e-01\n",
      "   1.65902775e-01  2.19952342e-01 -5.88236982e-01 -5.39966139e-01]\n",
      " [ 1.71967635e-02 -6.44724628e-03 -1.40289847e-03  1.22711073e-02\n",
      "   1.35085522e-02 -8.57207264e-03 -9.40069014e-04  1.03406585e-02\n",
      "  -1.32625803e-02 -2.50382015e-02 -1.01149099e-02  5.75535374e-02\n",
      "   7.21878279e-02 -2.49749222e-02 -3.94569773e-02 -4.09350876e-02\n",
      "  -4.66592409e-02 -1.97702635e-01  7.05203374e-01  3.20324852e-01\n",
      "  -2.94261007e-01  4.49553242e-03 -1.65753539e-01  4.80202329e-01]\n",
      " [ 2.37755995e-02 -2.30320678e-02 -1.70558613e-02  2.02529797e-02\n",
      "   4.04035864e-02  1.87360532e-02 -3.36390660e-03 -1.65457375e-02\n",
      "  -1.59676561e-02  4.63931073e-02 -6.99167561e-02  3.91092851e-02\n",
      "   3.88169018e-02 -6.39324094e-02 -7.20786625e-02 -6.88940805e-02\n",
      "   3.96764755e-02 -8.04914569e-02 -5.14509111e-01  3.10411683e-01\n",
      "  -1.86422067e-02  6.07925915e-01  2.02199536e-02  4.81783304e-01]]\n"
     ]
    }
   ],
   "source": [
    "# En utilisant les fonctions cov et eig, constituer une matrice de passage qui permette de passer \n",
    "# de l'espace de dimension 24 généré par la fonction canaux dans un espace à deux dimensions \n",
    "# correspondant aux deux composantes principales.\n",
    "# on calcule les vacteurs propres de R (24D)\n",
    "# on ne garde que les 2 plus fortes val propres, c'est a dire les \n",
    "# 2D qui sont les plus caractéristiques (moins de perte d'information lors\n",
    "# de la réduction de dimension)\n",
    "# permet de rendre la matrice R carrée (pour utiliser linalg)\n",
    "matriceCov=np.cov(Rt)\n",
    "# calcul les val propres et les vect propres de la matrice de cov de R\n",
    "(valPropres,vectPropres)=linalg.eig(matriceCov)\n",
    "print(vectPropres)"
   ]
  },
  {
   "cell_type": "code",
   "execution_count": 137,
   "id": "557933b2",
   "metadata": {},
   "outputs": [
    {
     "name": "stdout",
     "output_type": "stream",
     "text": [
      "(5295554841433.581+0j) (465469342942.36774+0j)\n"
     ]
    }
   ],
   "source": [
    "# Pour cela, \n",
    "# 1 - rechercher les deux valeurs propres maximales \n",
    "vp1=np.max(valPropres)\n",
    "indexVp1=np.where(valPropres==vp1)\n",
    "inter=np.delete(valPropres,indexVp1)\n",
    "vp2=np.max(inter)\n",
    "indexVp2=np.where(valPropres==vp2)\n",
    "print(vp1,vp2)"
   ]
  },
  {
   "cell_type": "code",
   "execution_count": 129,
   "id": "23e5ac5e",
   "metadata": {},
   "outputs": [
    {
     "name": "stdout",
     "output_type": "stream",
     "text": [
      "[[-4.58258772e-03  5.87687541e-04 -1.03534506e-02  1.64002609e-02\n",
      "  -1.33960772e-02  1.29936691e-02  1.37387425e-03 -5.05408368e-03\n",
      "  -1.06158527e-02 -7.72427670e-03  2.70668054e-02 -8.57658002e-02\n",
      "   7.82236117e-03 -6.97944891e-02 -1.01853962e-01  2.09432233e-01\n",
      "  -2.74490800e-02 -4.52085487e-02 -1.43116279e-01 -5.68069344e-01\n",
      "  -6.06515752e-01  1.28609136e-01 -4.45212501e-01  5.65625568e-02]]\n",
      "[[-0.15578644  0.21506731 -0.19539834  0.49489156 -0.05216259  0.28534929\n",
      "   0.46432554  0.12817984 -0.09912921 -0.20367236 -0.08420736 -0.43766271\n",
      "  -0.01351832  0.02663672 -0.08308415 -0.18210604 -0.1836531  -0.03191638\n",
      "   0.01613803 -0.02084179  0.05443926  0.01740962  0.01752801  0.01681489]]\n",
      "(array([0]),)\n",
      "(array([1]),)\n"
     ]
    }
   ],
   "source": [
    "# 2-  prendre les vercteurs propres correspondants\n",
    "vectPropre1=vectPropres[indexVp1]\n",
    "vectPropre2=vectPropres[indexVp2]\n",
    "print(vectPropre1)\n",
    "print(vectPropre2)\n",
    "print(indexVp1)\n",
    "print(indexVp2)"
   ]
  },
  {
   "cell_type": "code",
   "execution_count": 148,
   "id": "e7fb1ef6",
   "metadata": {},
   "outputs": [
    {
     "name": "stdout",
     "output_type": "stream",
     "text": [
      "(24, 24)\n",
      "[[ 6332564.81671094   915722.77739118]\n",
      " [ 3763264.39904398   758551.66407297]\n",
      " [ 3289598.85357857   753880.61226504]\n",
      " [ 5096495.98624228    47513.76446452]\n",
      " [ 4000851.39463877   475223.74765521]\n",
      " [ 3659795.52746406   268969.10102232]\n",
      " [ 4172667.25484518    49985.53495553]\n",
      " [ 3630064.79515597   296418.93018667]\n",
      " [ 3647524.75903319   417922.13624977]\n",
      " [ 4379492.2936544     -7733.15436754]\n",
      " [ 4448084.00826767   198595.42735169]\n",
      " [ 4150146.07111235   220436.51724533]\n",
      " [ 4750698.49100766    82355.16499967]\n",
      " [ 4340925.04041347    60443.34088412]\n",
      " [ 3011269.47935565   570755.03240877]\n",
      " [ 4893718.57074652   337777.33525538]\n",
      " [ 3604204.46907551   556519.52357904]\n",
      " [ 3101522.13585758   691979.65561261]\n",
      " [ 4100987.26616272   774320.1802287 ]\n",
      " [ 2563226.11842375  1117826.63525089]\n",
      " [ -537593.37598661  1435943.78466189]\n",
      " [ -553681.93996248  1298626.91222908]\n",
      " [ -561745.13769707  1141194.11565747]\n",
      " [ -868423.38132332  1120618.96782283]\n",
      " [-1021937.72406049  1080401.25012004]\n",
      " [ -977672.83343411  1022762.10079733]\n",
      " [ -827176.41380222  1241211.30133835]\n",
      " [ -843667.90387873  1258121.53026023]\n",
      " [ -815578.66116546  1091763.35290666]\n",
      " [ -718427.66395299  1296472.69622138]\n",
      " [ -890932.5393027    972228.10920159]\n",
      " [ -718125.90571737  1095671.05583211]\n",
      " [ -865358.46411003  1278468.01847109]\n",
      " [ -909246.67494303  1134478.95434282]\n",
      " [ -756866.11869216  1139628.86146481]\n",
      " [ -775218.43304911  1181753.02578152]\n",
      " [ -807913.88707329  1153102.03340038]\n",
      " [ -790456.75643105  1129812.07621936]\n",
      " [ -500387.26189613   867832.32314251]\n",
      " [ -484936.1241653    802253.94989503]\n",
      " [ -354140.24614591  -574580.36521001]\n",
      " [ -338070.90269426  -563311.29231483]\n",
      " [ -473120.15405281  -315419.81947606]\n",
      " [ -636038.24347218  -412431.57490164]\n",
      " [ -737778.81310295  -423237.80259732]\n",
      " [ -743129.38747189  -391306.10980213]\n",
      " [ -434288.84372421  -735831.92022136]\n",
      " [ -646391.89700476  -355587.65989674]\n",
      " [ -682235.10536899  -333883.98212228]\n",
      " [ -770682.88735825  -157444.80324315]\n",
      " [ -714349.40202293  -245378.05916913]\n",
      " [ -720956.57284139  -200333.38851657]\n",
      " [ -509596.16805863  -803942.52349715]\n",
      " [ -615273.78356386  -428884.20031905]\n",
      " [ -559024.51835579  -612643.89455491]\n",
      " [ -504696.033242    -495054.93496061]\n",
      " [ -638986.38530799  -406035.31551545]\n",
      " [ -592863.54289733  -122683.9037296 ]\n",
      " [ -696224.06510219  -287512.62405059]\n",
      " [ -624331.99452439  -570687.1839181 ]]\n"
     ]
    }
   ],
   "source": [
    "# 3-  projeter R dans ce nouvel espace \n",
    "# on garde les 2 premieres colonnes de la matrice vectPropres, \n",
    "# qui correspondent aux 2 vect propres aux val prores max\n",
    "matrix_vectPropres_max=vectPropres[:,:2]\n",
    "print(np.shape(vectPropres))\n",
    "# on multiplie matrix_vectPropres_max et R pour projeter R dans un espace 2D\n",
    "R_projetee=np.dot(R,matrix_vectPropres_max)\n",
    "print(R_projetee)"
   ]
  },
  {
   "cell_type": "code",
   "execution_count": 156,
   "id": "9cf8579a",
   "metadata": {},
   "outputs": [
    {
     "data": {
      "text/plain": [
       "[<matplotlib.lines.Line2D at 0x7f0af606d7f0>]"
      ]
     },
     "execution_count": 156,
     "metadata": {},
     "output_type": "execute_result"
    },
    {
     "data": {
      "image/png": "[encoded data removed]",
      "text/plain": [
       "<Figure size 640x480 with 1 Axes>"
      ]
     },
     "metadata": {},
     "output_type": "display_data"
    }
   ],
   "source": [
    "# 4- et effectuer un tracé\n",
    "# Afficher les nuages de points de chacune des classes de sons sur une même figure en les différenciant \n",
    "# par des couleurs ou une forme de tracé de points différentes ; Mettre une légende.\n",
    "R_projetee_A=np.dot(R[:19],matrix_vectPropres_max)\n",
    "R_projetee_U=np.dot(R[20:39],matrix_vectPropres_max)\n",
    "R_projetee_I=np.dot(R[40:59],matrix_vectPropres_max)\n",
    "plt.plot(R_projetee_A[:,0],R_projetee_A[:,1],'r*',label=\"A\")\n",
    "plt.plot(R_projetee_U[:,0],R_projetee_U[:,1],'b+',label=\"U\")\n",
    "plt.plot(R_projetee_I[:,0],R_projetee_I[:,1],'co',label=\"I\")\n"
   ]
  },
  {
   "cell_type": "code",
   "execution_count": 5,
   "id": "cf85772d",
   "metadata": {},
   "outputs": [],
   "source": [
    "# Utilisez les deux vecteurs propres les moins représentatifs pour la matrice de passage, \n",
    "# que devient la représentation des nuages ? Est-ce qu'une discrimination linéaire est possible ?"
   ]
  },
  {
   "cell_type": "code",
   "execution_count": 6,
   "id": "42cefd04",
   "metadata": {},
   "outputs": [],
   "source": [
    "# Pour cela\n",
    "# 5- rechercher les deux valeurs propres minimales"
   ]
  },
  {
   "cell_type": "markdown",
   "id": "e036a1ff",
   "metadata": {},
   "source": [
    "### Généralisation\n",
    "Réaliser le même traitement avec tous les fichiers (100) des 3 classes. Est-ce toujours séparable ?\n",
    "Effectuer le même traitement sur les 10 voyelles et commenter les résultats... Ajouter les cellules nécessaires. "
   ]
  }
 ],
 "metadata": {
  "kernelspec": {
   "display_name": "Python 3 (ipykernel)",
   "language": "python",
   "name": "python3"
  },
  "language_info": {
   "codemirror_mode": {
    "name": "ipython",
    "version": 3
   },
   "file_extension": ".py",
   "mimetype": "text/x-python",
   "name": "python",
   "nbconvert_exporter": "python",
   "pygments_lexer": "ipython3",
   "version": "3.8.16"
  }
 },
 "nbformat": 4,
 "nbformat_minor": 5
}
