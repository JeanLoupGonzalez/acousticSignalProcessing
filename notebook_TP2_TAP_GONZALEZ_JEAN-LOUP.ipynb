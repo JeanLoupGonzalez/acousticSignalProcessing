{
 "cells": [
  {
   "cell_type": "markdown",
   "id": "97bce729",
   "metadata": {},
   "source": [
    "# TP2 Classification de voyelles par lois gaussiennes\n",
    "NOM - PRÉNOM : Gonzalez Jean-Loup\n",
    "\n",
    "Déposer le notebook sur moodle à la fin de la séance."
   ]
  },
  {
   "cell_type": "markdown",
   "id": "4ce38f62",
   "metadata": {},
   "source": [
    "### Vérification des données\n"
   ]
  },
  {
   "cell_type": "code",
   "execution_count": 2,
   "id": "54f83407",
   "metadata": {},
   "outputs": [],
   "source": [
    "import pickle\n",
    "import matplotlib.pyplot as plt\n",
    "import numpy as np"
   ]
  },
  {
   "cell_type": "code",
   "execution_count": 3,
   "id": "83529d81",
   "metadata": {},
   "outputs": [
    {
     "name": "stdout",
     "output_type": "stream",
     "text": [
      "(80, 2) (80, 2) (80, 2)\n"
     ]
    }
   ],
   "source": [
    "#1- Charger les données d'apprentissage avec le code suivant :\n",
    "f = open('APP.pkl', 'rb')\n",
    "dicoAPP = pickle.load(f)\n",
    "app_aa = dicoAPP[\"aa\"]\n",
    "app_ii = dicoAPP[\"ii\"]\n",
    "app_uu = dicoAPP[\"uu\"]\n",
    "f.close()\n",
    "# Vérifier le contenu et la taille des matrices\n",
    "print(np.shape(app_aa),np.shape(app_ii),np.shape(app_uu))\n",
    "# print(app_aa,app_ii,app_uu)\n",
    "# Il s'agit de matrices 80x2 résultant d'une ACP sur une paramétrisation cepstrale (cf. TP1)."
   ]
  },
  {
   "cell_type": "code",
   "execution_count": 27,
   "id": "2f85b0de",
   "metadata": {},
   "outputs": [
    {
     "data": {
      "text/plain": [
       "(array([ 7.,  6.,  5.,  8., 17., 12., 15.,  9.,  0.,  1.]),\n",
       " array([-23.520093  , -20.53516589, -17.55023879, -14.56531168,\n",
       "        -11.58038457,  -8.59545746,  -5.61053036,  -2.62560325,\n",
       "          0.35932386,   3.34425097,   6.32917807]),\n",
       " <BarContainer object of 10 artists>)"
      ]
     },
     "execution_count": 27,
     "metadata": {},
     "output_type": "execute_result"
    },
    {
     "data": {
      "image/png": "[encoded data removed]",
      "text/plain": [
       "<Figure size 640x480 with 6 Axes>"
      ]
     },
     "metadata": {},
     "output_type": "display_data"
    }
   ],
   "source": [
    "# 2- Afficher sur une seule figure, en utilisant subplot(nb_lignes, \n",
    "# nb_colonnes, numero_trace), \n",
    "# l'histogramme de chacune des classes : aa, uu et ii.\n",
    "plt.subplot(3,2,1)\n",
    "plt.hist(app_aa[:,0])\n",
    "plt.subplot(3,2,2)\n",
    "plt.hist(app_aa[:,1])\n",
    "plt.subplot(3,2,3)\n",
    "plt.hist(app_uu[:,0])\n",
    "plt.subplot(3,2,4)\n",
    "plt.hist(app_uu[:,1])\n",
    "plt.subplot(3,2,5)\n",
    "plt.hist(app_ii[:,0])\n",
    "plt.subplot(3,2,6)\n",
    "plt.hist(app_ii[:,1])\n",
    "\n",
    "# Que pouvez-vous conclure ? Ecrire quelques lignes pour expliquer\n",
    "# on voit que pour les 3 jeux de donnée (aa, uu, ii) les données\n",
    "# suivent une à peu près loi gaussienne. Donc le modèle utilisant une loi  gaussienne\n",
    "# correspond aux données auxquelles ont veut l'appliquer. On peut donc\n",
    "# supposer que le modele a des chances de bien fonctionner\n"
   ]
  },
  {
   "cell_type": "markdown",
   "id": "17e20d6c",
   "metadata": {},
   "source": [
    "### Utilisation de lois gaussiennes"
   ]
  },
  {
   "cell_type": "code",
   "execution_count": 8,
   "id": "ef0cbe9e",
   "metadata": {},
   "outputs": [
    {
     "name": "stdout",
     "output_type": "stream",
     "text": [
      "(2,) (2,) (2,)\n",
      "(80, 80)\n"
     ]
    }
   ],
   "source": [
    "#3- APPRENTISSAGE : estimer les paramètres (moyenne et matrice \n",
    "# de covariance) de chaque classe. \n",
    "# Quelles sont les dimensions des variables crées ; que contiennent-elles ? \n",
    "meanAAX=app_aa[:,0].mean()\n",
    "meanAAY=app_aa[:,1].mean()\n",
    "meanAA=np.array([meanAAX,meanAAY])\n",
    "\n",
    "meanUUX=app_uu[:,0].mean()\n",
    "meanUUY=app_uu[:,1].mean()\n",
    "meanUU=np.array([meanUUX,meanUUY])\n",
    "\n",
    "meanIIX=app_ii[:,0].mean()\n",
    "meanIIY=app_ii[:,1].mean()\n",
    "meanII=np.array([meanIIX,meanIIY])\n",
    "\n",
    "print(np.shape(meanAA),np.shape(meanUU),np.shape(meanII))\n",
    "\n",
    "covAA=np.cov(app_aa)\n",
    "covUU=np.cov(app_uu)\n",
    "covII=np.cov(app_ii)\n",
    "\n",
    "print(np.shape(covAA))\n",
    "\n",
    "#variables créées de dim 2 pour les moyennes\n",
    "#de dimension (80x80) pour les matrices de covariances"
   ]
  },
  {
   "cell_type": "code",
   "execution_count": 8,
   "id": "3f50dda3",
   "metadata": {},
   "outputs": [],
   "source": [
    "#4- RECONNAISSANCE : écrire une fonction classer qui renvoie la classe obtenue \n",
    "# par maximum de vraisemblance sur les lois gaussiennes estimées (modèle\n",
    "# de chaque classe) \n",
    "# sur l'observation fournie en entrée :\n",
    "\n",
    "# comme les observations se regroupent sous forme d'une gausienne, \n",
    "# mais les matrices de covariance ne sont pas les mêmes,\n",
    "# ont peut utiliser l'hypothèse 1 du cours, p41 (en simplifiant la formule\n",
    "# et  en passant par le log)\n",
    "def classer(baseTest,meanAA,covAA,meanUU,covUU,meanII,covII):\n",
    "    \n",
    "# Exemple de résultat : \n",
    "# classe = classer(tst_aa[0,:], m_aa, c_aa, m_uu, c_uu, m_ii, c_ii)\n",
    "# => no_classe = 1"
   ]
  },
  {
   "cell_type": "code",
   "execution_count": 9,
   "id": "408d8e2c",
   "metadata": {},
   "outputs": [],
   "source": [
    "#5- Des observations à tester sont présentes dans le fichier Pickle suivant : TST.pkl\n",
    "# Charger ces données de tests comme  pour les données d'apprentissage)\n",
    "# Vérifier leur dimensions et leur contenu\n"
   ]
  },
  {
   "cell_type": "code",
   "execution_count": 21,
   "id": "cbbd1514",
   "metadata": {},
   "outputs": [],
   "source": [
    "#6- Définir la fonction tout_tester qui effectue tous les tests de classification \n"
   ]
  },
  {
   "cell_type": "code",
   "execution_count": null,
   "id": "3ded6a85",
   "metadata": {},
   "outputs": [],
   "source": [
    "#7- Réaliser les tests et afficher la matrice de confusion et le taux de bonne reconnaisance correspondant \n"
   ]
  },
  {
   "cell_type": "raw",
   "id": "183be2f8",
   "metadata": {},
   "source": [
    "#8- Commenter les résultats obtenus :\n",
    "# matrice_confusion =\n",
    "#  20  0  0\n",
    "#   0 20  0\n",
    "#   0  0 20\n",
    "# taux_reco = 1\n",
    "\n",
    "# ... "
   ]
  },
  {
   "cell_type": "markdown",
   "id": "193a505c",
   "metadata": {},
   "source": [
    "### Visualisation  des résultats"
   ]
  },
  {
   "cell_type": "code",
   "execution_count": 1,
   "id": "b31103d7",
   "metadata": {},
   "outputs": [],
   "source": [
    "#9- Représenter en 2D et par des couleurs différentes les nuages de points correspondant \n",
    "# aux données d'apprentissage\n",
    "\n",
    "#10- Afficher les centroïdes des différentes classes.\n",
    "\n"
   ]
  },
  {
   "cell_type": "code",
   "execution_count": 2,
   "id": "fab2f308",
   "metadata": {},
   "outputs": [],
   "source": [
    "#11- Réaliser une animation pour l'affichage des points de test (un par un avec des couleurs par exemple...).\n",
    "\n"
   ]
  }
 ],
 "metadata": {
  "kernelspec": {
   "display_name": "Python 3 (ipykernel)",
   "language": "python",
   "name": "python3"
  },
  "language_info": {
   "codemirror_mode": {
    "name": "ipython",
    "version": 3
   },
   "file_extension": ".py",
   "mimetype": "text/x-python",
   "name": "python",
   "nbconvert_exporter": "python",
   "pygments_lexer": "ipython3",
   "version": "3.9.12"
  }
 },
 "nbformat": 4,
 "nbformat_minor": 5
}
